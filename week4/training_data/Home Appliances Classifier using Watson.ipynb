{
 "cells": [
  {
   "cell_type": "code",
   "execution_count": 1,
   "metadata": {},
   "outputs": [
    {
     "name": "stdout",
     "output_type": "stream",
     "text": [
      "Requirement already up-to-date: ibm-watson in c:\\program files\\python36\\lib\\site-packages (4.4.1)\n",
      "Requirement already satisfied, skipping upgrade: requests<3.0,>=2.0 in c:\\program files\\python36\\lib\\site-packages (from ibm-watson) (2.23.0)\n",
      "Requirement already satisfied, skipping upgrade: ibm-cloud-sdk-core==1.5.1 in c:\\program files\\python36\\lib\\site-packages (from ibm-watson) (1.5.1)\n",
      "Requirement already satisfied, skipping upgrade: python-dateutil>=2.5.3 in c:\\program files\\python36\\lib\\site-packages (from ibm-watson) (2.7.1)\n",
      "Requirement already satisfied, skipping upgrade: websocket-client==0.48.0 in c:\\program files\\python36\\lib\\site-packages (from ibm-watson) (0.48.0)\n",
      "Requirement already satisfied, skipping upgrade: certifi>=2017.4.17 in c:\\program files\\python36\\lib\\site-packages (from requests<3.0,>=2.0->ibm-watson) (2020.4.5.1)\n",
      "Requirement already satisfied, skipping upgrade: chardet<4,>=3.0.2 in c:\\program files\\python36\\lib\\site-packages (from requests<3.0,>=2.0->ibm-watson) (3.0.4)\n",
      "Requirement already satisfied, skipping upgrade: urllib3!=1.25.0,!=1.25.1,<1.26,>=1.21.1 in c:\\program files\\python36\\lib\\site-packages (from requests<3.0,>=2.0->ibm-watson) (1.25.9)\n",
      "Requirement already satisfied, skipping upgrade: idna<3,>=2.5 in c:\\program files\\python36\\lib\\site-packages (from requests<3.0,>=2.0->ibm-watson) (2.9)\n",
      "Requirement already satisfied, skipping upgrade: PyJWT>=1.7.1 in c:\\program files\\python36\\lib\\site-packages (from ibm-cloud-sdk-core==1.5.1->ibm-watson) (1.7.1)\n",
      "Requirement already satisfied, skipping upgrade: six>=1.5 in c:\\program files\\python36\\lib\\site-packages (from python-dateutil>=2.5.3->ibm-watson) (1.11.0)\n"
     ]
    }
   ],
   "source": [
    "!pip install --upgrade ibm-watson"
   ]
  },
  {
   "cell_type": "code",
   "execution_count": 2,
   "metadata": {},
   "outputs": [],
   "source": [
    "# Paste your API key for IBM Watson Visual Recognition below:\n",
    "my_apikey = ''"
   ]
  },
  {
   "cell_type": "code",
   "execution_count": 3,
   "metadata": {},
   "outputs": [],
   "source": [
    "from ibm_watson import VisualRecognitionV3\n",
    "from ibm_cloud_sdk_core.authenticators import IAMAuthenticator\n",
    "\n",
    "authenticator = IAMAuthenticator(my_apikey)\n",
    "\n",
    "visrec = VisualRecognitionV3('2018-03-19', \n",
    "                             authenticator=authenticator)"
   ]
  },
  {
   "cell_type": "code",
   "execution_count": 4,
   "metadata": {},
   "outputs": [
    {
     "name": "stdout",
     "output_type": "stream",
     "text": [
      "{\n",
      "  \"classifier_id\": \"homeappliancesclassifier_1815988964\",\n",
      "  \"name\": \"homeappliancesclassifier\",\n",
      "  \"status\": \"training\",\n",
      "  \"owner\": \"c4aa8115-d6d4-4e36-b8f6-aad0199ba066\",\n",
      "  \"created\": \"2020-05-25T22:35:10.133Z\",\n",
      "  \"updated\": \"2020-05-25T22:35:10.133Z\",\n",
      "  \"classes\": [\n",
      "    {\n",
      "      \"class\": \"bed\"\n",
      "    },\n",
      "    {\n",
      "      \"class\": \"chair\"\n",
      "    },\n",
      "    {\n",
      "      \"class\": \"table\"\n",
      "    }\n",
      "  ],\n",
      "  \"core_ml_enabled\": true\n",
      "}\n"
     ]
    }
   ],
   "source": [
    "import urllib.request\n",
    "import json\n",
    "with open('table.zip', 'rb') as table, \\\n",
    "     open('chair.zip', 'rb') as chair, \\\n",
    "     open('bed.zip', 'rb') as bed:\n",
    "        response = visrec.create_classifier(name=\"homeappliancesclassifier\",\n",
    "                                        positive_examples={'table': table, \\\n",
    "                                                           'chair': chair, \\\n",
    "                                                           'bed': bed})\n",
    "print(json.dumps(response.get_result(), indent=2))"
   ]
  },
  {
   "cell_type": "code",
   "execution_count": 5,
   "metadata": {},
   "outputs": [
    {
     "data": {
      "text/plain": [
       "'homeappliancesclassifier_1815988964'"
      ]
     },
     "execution_count": 5,
     "metadata": {},
     "output_type": "execute_result"
    }
   ],
   "source": [
    "#lets grab the classifier id\n",
    "classifier_id = response.get_result()[\"classifier_id\"]\n",
    "classifier_id"
   ]
  },
  {
   "cell_type": "code",
   "execution_count": 19,
   "metadata": {},
   "outputs": [
    {
     "name": "stdout",
     "output_type": "stream",
     "text": [
      "Good to go \n"
     ]
    }
   ],
   "source": [
    "Status = visrec.get_classifier(classifier_id=classifier_id, verbose=True).get_result()['status']\n",
    "if Status=='training': \n",
    "    print (\"Please, Wait to complete training.......\")\n",
    "else:\n",
    "    print(\"Good to go \")"
   ]
  },
  {
   "cell_type": "code",
   "execution_count": 20,
   "metadata": {},
   "outputs": [
    {
     "data": {
      "text/plain": [
       "{'classifiers': [{'classifier_id': 'homeappliancesclassifier_1815988964',\n",
       "   'name': 'homeappliancesclassifier',\n",
       "   'status': 'ready',\n",
       "   'owner': 'c4aa8115-d6d4-4e36-b8f6-aad0199ba066',\n",
       "   'created': '2020-05-25T22:35:10.133Z',\n",
       "   'updated': '2020-05-25T22:35:10.133Z',\n",
       "   'classes': [{'class': 'bed'}, {'class': 'chair'}, {'class': 'table'}],\n",
       "   'core_ml_enabled': True},\n",
       "  {'classifier_id': 'fastfoodclassifier_1903261324',\n",
       "   'name': 'fastfoodclassifier',\n",
       "   'status': 'ready',\n",
       "   'owner': 'c4aa8115-d6d4-4e36-b8f6-aad0199ba066',\n",
       "   'created': '2020-05-23T10:34:06.760Z',\n",
       "   'updated': '2020-05-23T10:34:06.760Z',\n",
       "   'classes': [{'class': 'burger'}, {'class': 'pizza'}, {'class': 'fries'}],\n",
       "   'core_ml_enabled': True}]}"
      ]
     },
     "execution_count": 20,
     "metadata": {},
     "output_type": "execute_result"
    }
   ],
   "source": [
    "visrec.list_classifiers(verbose=True).get_result()"
   ]
  },
  {
   "cell_type": "code",
   "execution_count": 21,
   "metadata": {},
   "outputs": [],
   "source": [
    "from pandas.io.json import json_normalize\n",
    "\n",
    "def getdf_visrec(url, classifier_ids, apikey = my_apikey):\n",
    "    \n",
    "    json_result = visrec.classify(url=url,\n",
    "                              threshold='0.6',\n",
    "                              classifier_ids=classifier_id).get_result()\n",
    "    \n",
    "    json_classes = json_result['images'][0]['classifiers'][0]['classes']\n",
    "    \n",
    "    df = json_normalize(json_classes).sort_values('score', ascending=False).reset_index(drop=True)\n",
    "    \n",
    "    return df"
   ]
  },
  {
   "cell_type": "code",
   "execution_count": 33,
   "metadata": {},
   "outputs": [
    {
     "data": {
      "text/html": [
       "<div>\n",
       "<style scoped>\n",
       "    .dataframe tbody tr th:only-of-type {\n",
       "        vertical-align: middle;\n",
       "    }\n",
       "\n",
       "    .dataframe tbody tr th {\n",
       "        vertical-align: top;\n",
       "    }\n",
       "\n",
       "    .dataframe thead th {\n",
       "        text-align: right;\n",
       "    }\n",
       "</style>\n",
       "<table border=\"1\" class=\"dataframe\">\n",
       "  <thead>\n",
       "    <tr style=\"text-align: right;\">\n",
       "      <th></th>\n",
       "      <th>class</th>\n",
       "      <th>score</th>\n",
       "    </tr>\n",
       "  </thead>\n",
       "  <tbody>\n",
       "    <tr>\n",
       "      <th>0</th>\n",
       "      <td>bed</td>\n",
       "      <td>0.907</td>\n",
       "    </tr>\n",
       "  </tbody>\n",
       "</table>\n",
       "</div>"
      ],
      "text/plain": [
       "  class  score\n",
       "0   bed  0.907"
      ]
     },
     "execution_count": 33,
     "metadata": {},
     "output_type": "execute_result"
    }
   ],
   "source": [
    "getdf_visrec(url = 'https://cdn11.bigcommerce.com/s-1u1m3wn/images/stencil/1280x1280/products/2776/4074/Almore-light-grey-upholstered-queen-bed-with-buttoned-tufted-headboard__80916.1520481414.jpg?c=2&imbypass=on',\n",
    "            classifier_ids=classifier_id)"
   ]
  },
  {
   "cell_type": "code",
   "execution_count": null,
   "metadata": {},
   "outputs": [],
   "source": []
  }
 ],
 "metadata": {
  "kernelspec": {
   "display_name": "Python 3",
   "language": "python",
   "name": "python3"
  },
  "language_info": {
   "codemirror_mode": {
    "name": "ipython",
    "version": 3
   },
   "file_extension": ".py",
   "mimetype": "text/x-python",
   "name": "python",
   "nbconvert_exporter": "python",
   "pygments_lexer": "ipython3",
   "version": "3.6.4"
  }
 },
 "nbformat": 4,
 "nbformat_minor": 2
}
